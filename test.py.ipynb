{
 "cells": [
  {
   "cell_type": "code",
   "execution_count": 1,
   "metadata": {},
   "outputs": [],
   "source": [
    "from hcc import Diagnosis, Beneficiary, ICDType, score,regvars, EntitlementReason\n",
    "from pyDatalog import pyDatalog\n",
    "import pandas as pd\n",
    "import random"
   ]
  },
  {
   "cell_type": "code",
   "execution_count": 2,
   "metadata": {},
   "outputs": [],
   "source": [
    "#reading files\n",
    "diag_f= \"test_data/diag.csv\"\n",
    "person_f= \"test_data/person.csv\"\n",
    "output_f= \"test_data/output.csv\"\n",
    "hcc_coeff_f= \"hcc_coefficients_cleaned.csv\"\n",
    "\n",
    "df_diag= pd.read_csv(diag_f)\n",
    "df_person= pd.read_csv(person_f)\n",
    "df_output= pd.read_csv(output_f)\n",
    "hcc_coeff= pd.read_csv(hcc_coeff_f, names= ['coeff', 'value'])"
   ]
  },
  {
   "cell_type": "code",
   "execution_count": 3,
   "metadata": {},
   "outputs": [
    {
     "data": {
      "text/plain": [
       "{'CFA': 'valid_community_aged_variables',\n",
       " 'CFD': 'valid_community_disabled_variables',\n",
       " 'CNA': 'valid_community_aged_variables',\n",
       " 'CND': 'valid_community_disabled_variables',\n",
       " 'CPA': 'valid_community_aged_variables',\n",
       " 'CPD': 'valid_community_disabled_variables'}"
      ]
     },
     "execution_count": 3,
     "metadata": {},
     "output_type": "execute_result"
    }
   ],
   "source": [
    "raf_type= {'CFA': 'valid_community_aged_variables', 'CFD': 'valid_community_disabled_variables', 'CNA': 'valid_community_aged_variables', 'CND': 'valid_community_disabled_variables', 'CPA': 'valid_community_aged_variables', 'CPD': 'valid_community_disabled_variables'}\n",
    "raf_type"
   ]
  },
  {
   "cell_type": "code",
   "execution_count": 4,
   "metadata": {},
   "outputs": [
    {
     "data": {
      "text/html": [
       "<div>\n",
       "<style scoped>\n",
       "    .dataframe tbody tr th:only-of-type {\n",
       "        vertical-align: middle;\n",
       "    }\n",
       "\n",
       "    .dataframe tbody tr th {\n",
       "        vertical-align: top;\n",
       "    }\n",
       "\n",
       "    .dataframe thead th {\n",
       "        text-align: right;\n",
       "    }\n",
       "</style>\n",
       "<table border=\"1\" class=\"dataframe\">\n",
       "  <thead>\n",
       "    <tr style=\"text-align: right;\">\n",
       "      <th></th>\n",
       "      <th>Patient_ID</th>\n",
       "      <th>ICD10</th>\n",
       "      <th>month</th>\n",
       "      <th>year</th>\n",
       "    </tr>\n",
       "  </thead>\n",
       "  <tbody>\n",
       "    <tr>\n",
       "      <th>0</th>\n",
       "      <td>1132385403999</td>\n",
       "      <td>C760</td>\n",
       "      <td>9</td>\n",
       "      <td>17</td>\n",
       "    </tr>\n",
       "    <tr>\n",
       "      <th>1</th>\n",
       "      <td>1132385403999</td>\n",
       "      <td>C760</td>\n",
       "      <td>10</td>\n",
       "      <td>17</td>\n",
       "    </tr>\n",
       "    <tr>\n",
       "      <th>2</th>\n",
       "      <td>1132385403999</td>\n",
       "      <td>I270</td>\n",
       "      <td>10</td>\n",
       "      <td>17</td>\n",
       "    </tr>\n",
       "    <tr>\n",
       "      <th>3</th>\n",
       "      <td>1132385403999</td>\n",
       "      <td>C760</td>\n",
       "      <td>11</td>\n",
       "      <td>17</td>\n",
       "    </tr>\n",
       "    <tr>\n",
       "      <th>4</th>\n",
       "      <td>1132385403999</td>\n",
       "      <td>I270</td>\n",
       "      <td>11</td>\n",
       "      <td>17</td>\n",
       "    </tr>\n",
       "  </tbody>\n",
       "</table>\n",
       "</div>"
      ],
      "text/plain": [
       "      Patient_ID  ICD10  month  year\n",
       "0  1132385403999   C760      9    17\n",
       "1  1132385403999   C760     10    17\n",
       "2  1132385403999   I270     10    17\n",
       "3  1132385403999   C760     11    17\n",
       "4  1132385403999   I270     11    17"
      ]
     },
     "execution_count": 4,
     "metadata": {},
     "output_type": "execute_result"
    }
   ],
   "source": [
    "df_diag.head()\n"
   ]
  },
  {
   "cell_type": "code",
   "execution_count": 5,
   "metadata": {},
   "outputs": [
    {
     "data": {
      "text/html": [
       "<div>\n",
       "<style scoped>\n",
       "    .dataframe tbody tr th:only-of-type {\n",
       "        vertical-align: middle;\n",
       "    }\n",
       "\n",
       "    .dataframe tbody tr th {\n",
       "        vertical-align: top;\n",
       "    }\n",
       "\n",
       "    .dataframe thead th {\n",
       "        text-align: right;\n",
       "    }\n",
       "</style>\n",
       "<table border=\"1\" class=\"dataframe\">\n",
       "  <thead>\n",
       "    <tr style=\"text-align: right;\">\n",
       "      <th></th>\n",
       "      <th>Month_of_eligibility</th>\n",
       "      <th>Patient_DOB</th>\n",
       "      <th>Gender</th>\n",
       "      <th>Patient_ID</th>\n",
       "      <th>RAF_Type</th>\n",
       "    </tr>\n",
       "  </thead>\n",
       "  <tbody>\n",
       "    <tr>\n",
       "      <th>0</th>\n",
       "      <td>2017-03-01</td>\n",
       "      <td>1951-08-08</td>\n",
       "      <td>M</td>\n",
       "      <td>1132385403999</td>\n",
       "      <td>CFA</td>\n",
       "    </tr>\n",
       "    <tr>\n",
       "      <th>1</th>\n",
       "      <td>2017-01-01</td>\n",
       "      <td>1951-09-04</td>\n",
       "      <td>F</td>\n",
       "      <td>1125322747999</td>\n",
       "      <td>CNA</td>\n",
       "    </tr>\n",
       "    <tr>\n",
       "      <th>2</th>\n",
       "      <td>2018-05-01</td>\n",
       "      <td>1938-12-13</td>\n",
       "      <td>M</td>\n",
       "      <td>1113060059999</td>\n",
       "      <td>CPA</td>\n",
       "    </tr>\n",
       "    <tr>\n",
       "      <th>3</th>\n",
       "      <td>2017-07-01</td>\n",
       "      <td>1940-08-11</td>\n",
       "      <td>F</td>\n",
       "      <td>1963247143999</td>\n",
       "      <td>CNA</td>\n",
       "    </tr>\n",
       "    <tr>\n",
       "      <th>4</th>\n",
       "      <td>2017-09-01</td>\n",
       "      <td>1945-03-25</td>\n",
       "      <td>F</td>\n",
       "      <td>153951827999</td>\n",
       "      <td>CNA</td>\n",
       "    </tr>\n",
       "  </tbody>\n",
       "</table>\n",
       "</div>"
      ],
      "text/plain": [
       "  Month_of_eligibility Patient_DOB Gender     Patient_ID RAF_Type\n",
       "0           2017-03-01  1951-08-08      M  1132385403999      CFA\n",
       "1           2017-01-01  1951-09-04      F  1125322747999      CNA\n",
       "2           2018-05-01  1938-12-13      M  1113060059999      CPA\n",
       "3           2017-07-01  1940-08-11      F  1963247143999      CNA\n",
       "4           2017-09-01  1945-03-25      F   153951827999      CNA"
      ]
     },
     "execution_count": 5,
     "metadata": {},
     "output_type": "execute_result"
    }
   ],
   "source": [
    "df_person.head()\n"
   ]
  },
  {
   "cell_type": "code",
   "execution_count": 6,
   "metadata": {},
   "outputs": [
    {
     "data": {
      "text/html": [
       "<div>\n",
       "<style scoped>\n",
       "    .dataframe tbody tr th:only-of-type {\n",
       "        vertical-align: middle;\n",
       "    }\n",
       "\n",
       "    .dataframe tbody tr th {\n",
       "        vertical-align: top;\n",
       "    }\n",
       "\n",
       "    .dataframe thead th {\n",
       "        text-align: right;\n",
       "    }\n",
       "</style>\n",
       "<table border=\"1\" class=\"dataframe\">\n",
       "  <thead>\n",
       "    <tr style=\"text-align: right;\">\n",
       "      <th></th>\n",
       "      <th>Run_date</th>\n",
       "      <th>year_of_eligibility</th>\n",
       "      <th>Patient_ID</th>\n",
       "      <th>DOB</th>\n",
       "      <th>Gender</th>\n",
       "      <th>Group_code</th>\n",
       "      <th>Plan_type</th>\n",
       "      <th>Observation</th>\n",
       "      <th>RAF coefficient</th>\n",
       "      <th>RAF_type</th>\n",
       "    </tr>\n",
       "  </thead>\n",
       "  <tbody>\n",
       "    <tr>\n",
       "      <th>0</th>\n",
       "      <td>2018-09-24</td>\n",
       "      <td>2017-01-01</td>\n",
       "      <td>100231512200308033401999</td>\n",
       "      <td>1927-11-08</td>\n",
       "      <td>F</td>\n",
       "      <td>AE430044</td>\n",
       "      <td>MEDICARE ADVANTAGE</td>\n",
       "      <td>CNA_F85_89</td>\n",
       "      <td>0.664</td>\n",
       "      <td>CNA</td>\n",
       "    </tr>\n",
       "    <tr>\n",
       "      <th>1</th>\n",
       "      <td>2018-09-24</td>\n",
       "      <td>2017-02-01</td>\n",
       "      <td>100231512200308033401999</td>\n",
       "      <td>1927-11-08</td>\n",
       "      <td>F</td>\n",
       "      <td>AE430044</td>\n",
       "      <td>MEDICARE ADVANTAGE</td>\n",
       "      <td>CNA_F85_89</td>\n",
       "      <td>0.664</td>\n",
       "      <td>CNA</td>\n",
       "    </tr>\n",
       "    <tr>\n",
       "      <th>2</th>\n",
       "      <td>2018-09-24</td>\n",
       "      <td>2017-03-01</td>\n",
       "      <td>100231512200308033401999</td>\n",
       "      <td>1927-11-08</td>\n",
       "      <td>F</td>\n",
       "      <td>AE430044</td>\n",
       "      <td>MEDICARE ADVANTAGE</td>\n",
       "      <td>CNA_F85_89</td>\n",
       "      <td>0.664</td>\n",
       "      <td>CNA</td>\n",
       "    </tr>\n",
       "    <tr>\n",
       "      <th>3</th>\n",
       "      <td>2018-09-24</td>\n",
       "      <td>2017-04-01</td>\n",
       "      <td>100231512200308033401999</td>\n",
       "      <td>1927-11-08</td>\n",
       "      <td>F</td>\n",
       "      <td>AE430044</td>\n",
       "      <td>MEDICARE ADVANTAGE</td>\n",
       "      <td>CNA_F85_89</td>\n",
       "      <td>0.664</td>\n",
       "      <td>CNA</td>\n",
       "    </tr>\n",
       "    <tr>\n",
       "      <th>4</th>\n",
       "      <td>2018-09-24</td>\n",
       "      <td>2017-05-01</td>\n",
       "      <td>100231512200308033401999</td>\n",
       "      <td>1927-11-08</td>\n",
       "      <td>F</td>\n",
       "      <td>AE430044</td>\n",
       "      <td>MEDICARE ADVANTAGE</td>\n",
       "      <td>CNA_F85_89</td>\n",
       "      <td>0.664</td>\n",
       "      <td>CNA</td>\n",
       "    </tr>\n",
       "  </tbody>\n",
       "</table>\n",
       "</div>"
      ],
      "text/plain": [
       "     Run_date year_of_eligibility                Patient_ID         DOB  \\\n",
       "0  2018-09-24          2017-01-01  100231512200308033401999  1927-11-08   \n",
       "1  2018-09-24          2017-02-01  100231512200308033401999  1927-11-08   \n",
       "2  2018-09-24          2017-03-01  100231512200308033401999  1927-11-08   \n",
       "3  2018-09-24          2017-04-01  100231512200308033401999  1927-11-08   \n",
       "4  2018-09-24          2017-05-01  100231512200308033401999  1927-11-08   \n",
       "\n",
       "  Gender Group_code           Plan_type Observation  RAF coefficient RAF_type  \n",
       "0      F   AE430044  MEDICARE ADVANTAGE  CNA_F85_89            0.664      CNA  \n",
       "1      F   AE430044  MEDICARE ADVANTAGE  CNA_F85_89            0.664      CNA  \n",
       "2      F   AE430044  MEDICARE ADVANTAGE  CNA_F85_89            0.664      CNA  \n",
       "3      F   AE430044  MEDICARE ADVANTAGE  CNA_F85_89            0.664      CNA  \n",
       "4      F   AE430044  MEDICARE ADVANTAGE  CNA_F85_89            0.664      CNA  "
      ]
     },
     "execution_count": 6,
     "metadata": {},
     "output_type": "execute_result"
    }
   ],
   "source": [
    "df_output.head()"
   ]
  },
  {
   "cell_type": "code",
   "execution_count": 7,
   "metadata": {},
   "outputs": [
    {
     "name": "stdout",
     "output_type": "stream",
     "text": [
      "selecting random row from the person df\n",
      "{'Month_of_eligibility': '2017-09-01', 'Patient_DOB': '1952-01-15', 'Gender': 'F', 'Patient_ID': '1904330415999', 'RAF_Type': 'CNA'}\n"
     ]
    }
   ],
   "source": [
    "print('selecting random row from the person df')\n",
    "#print(df_person.index)\n",
    "id=random.randint(df_person.index[0],df_person.index[-1] )\n",
    "temp_patient= dict(df_person.loc[id])\n",
    "print(temp_patient)"
   ]
  },
  {
   "cell_type": "code",
   "execution_count": 8,
   "metadata": {},
   "outputs": [
    {
     "name": "stdout",
     "output_type": "stream",
     "text": [
      "getting diagnosis data for Patient_ID: 1904330415999\n"
     ]
    },
    {
     "data": {
      "text/html": [
       "<div>\n",
       "<style scoped>\n",
       "    .dataframe tbody tr th:only-of-type {\n",
       "        vertical-align: middle;\n",
       "    }\n",
       "\n",
       "    .dataframe tbody tr th {\n",
       "        vertical-align: top;\n",
       "    }\n",
       "\n",
       "    .dataframe thead th {\n",
       "        text-align: right;\n",
       "    }\n",
       "</style>\n",
       "<table border=\"1\" class=\"dataframe\">\n",
       "  <thead>\n",
       "    <tr style=\"text-align: right;\">\n",
       "      <th></th>\n",
       "      <th>Patient_ID</th>\n",
       "      <th>ICD10</th>\n",
       "      <th>month</th>\n",
       "      <th>year</th>\n",
       "    </tr>\n",
       "  </thead>\n",
       "  <tbody>\n",
       "  </tbody>\n",
       "</table>\n",
       "</div>"
      ],
      "text/plain": [
       "Empty DataFrame\n",
       "Columns: [Patient_ID,  ICD10, month, year]\n",
       "Index: []"
      ]
     },
     "execution_count": 8,
     "metadata": {},
     "output_type": "execute_result"
    }
   ],
   "source": [
    "print(\"getting diagnosis data for {}: {}\".format('Patient_ID', temp_patient['Patient_ID'] ))\n",
    "temp_diag= df_diag.query(\"Patient_ID=='{}'\".format(temp_patient['Patient_ID']))\n",
    "temp_diag"
   ]
  },
  {
   "cell_type": "code",
   "execution_count": 9,
   "metadata": {},
   "outputs": [
    {
     "name": "stdout",
     "output_type": "stream",
     "text": [
      "female 19520115 20170901 0\n",
      "ID:1904330415999,DOB:1952-01-15 00:00:00,age_upto:2017-09-01 00:00:00\n"
     ]
    }
   ],
   "source": [
    "from hcc import Diagnosis, Beneficiary, ICDType, score,regvars, EntitlementReason\n",
    "from pyDatalog import pyDatalog\n",
    "\n",
    "sex= {'f':'female', 'm': 'male'}\n",
    "\n",
    "temp_sex= sex[temp_patient['Gender'].lower()]\n",
    "\n",
    "temp_dob= ''.join(temp_patient['Patient_DOB'].split('-'))\n",
    "temp_age_upto= ''.join(temp_patient['Month_of_eligibility'].split('-'))\n",
    "\n",
    "char1, char2, char3=temp_patient['RAF_Type']\n",
    "\n",
    "\n",
    "\n",
    "if char1 =='E' and char3 =='D':\n",
    "    orec= 3\n",
    "else:\n",
    "    orec= {'A':0, 'D':1}[char3]\n",
    "    \n",
    "print(temp_sex, temp_dob,temp_age_upto, orec)\n",
    "\n",
    "person= Beneficiary(hicno= temp_patient['Patient_ID'], sex= temp_sex ,dob= temp_dob, age_upto= temp_age_upto , original_reason_entitlement= orec, medicaid=True, )\n",
    "print(person)"
   ]
  },
  {
   "cell_type": "code",
   "execution_count": 10,
   "metadata": {},
   "outputs": [],
   "source": [
    "for code in temp_diag[' ICD10'].values:\n",
    "    person.add_diagnosis(Diagnosis(person,code,ICDType.TEN))"
   ]
  },
  {
   "cell_type": "code",
   "execution_count": 11,
   "metadata": {},
   "outputs": [
    {
     "ename": "IndexError",
     "evalue": "list index out of range",
     "output_type": "error",
     "traceback": [
      "\u001b[0;31m---------------------------------------------------------------------------\u001b[0m",
      "\u001b[0;31mIndexError\u001b[0m                                Traceback (most recent call last)",
      "\u001b[0;32m<ipython-input-11-cf7e06124a9b>\u001b[0m in \u001b[0;36m<module>\u001b[0;34m()\u001b[0m\n\u001b[1;32m      3\u001b[0m \u001b[0mtemp_raf_type\u001b[0m\u001b[0;34m=\u001b[0m \u001b[0mraf_type\u001b[0m\u001b[0;34m[\u001b[0m\u001b[0mtemp_patient\u001b[0m\u001b[0;34m[\u001b[0m\u001b[0;34m'RAF_Type'\u001b[0m\u001b[0;34m]\u001b[0m\u001b[0;34m]\u001b[0m\u001b[0;34m\u001b[0m\u001b[0m\n\u001b[1;32m      4\u001b[0m \u001b[0;34m\u001b[0m\u001b[0m\n\u001b[0;32m----> 5\u001b[0;31m \u001b[0mconditiion_categories\u001b[0m\u001b[0;34m=\u001b[0m \u001b[0mregvars\u001b[0m\u001b[0;34m(\u001b[0m\u001b[0mperson\u001b[0m\u001b[0;34m,\u001b[0m \u001b[0mtemp_raf_type\u001b[0m\u001b[0;34m,\u001b[0m \u001b[0mVars\u001b[0m\u001b[0;34m)\u001b[0m\u001b[0;34m[\u001b[0m\u001b[0;36m0\u001b[0m\u001b[0;34m]\u001b[0m\u001b[0;34m[\u001b[0m\u001b[0;36m0\u001b[0m\u001b[0;34m]\u001b[0m\u001b[0;34m.\u001b[0m\u001b[0msplit\u001b[0m\u001b[0;34m(\u001b[0m\u001b[0;34m','\u001b[0m\u001b[0;34m)\u001b[0m\u001b[0;34m\u001b[0m\u001b[0m\n\u001b[0m\u001b[1;32m      6\u001b[0m \u001b[0;34m\u001b[0m\u001b[0m\n\u001b[1;32m      7\u001b[0m \u001b[0mprint\u001b[0m\u001b[0;34m(\u001b[0m\u001b[0;34m\"conditiion_categories: {} for RAF_Type: {}\"\u001b[0m\u001b[0;34m.\u001b[0m\u001b[0mformat\u001b[0m\u001b[0;34m(\u001b[0m\u001b[0mconditiion_categories\u001b[0m\u001b[0;34m,\u001b[0m\u001b[0mtemp_patient\u001b[0m\u001b[0;34m[\u001b[0m\u001b[0;34m'RAF_Type'\u001b[0m\u001b[0;34m]\u001b[0m\u001b[0;34m)\u001b[0m\u001b[0;34m)\u001b[0m\u001b[0;34m\u001b[0m\u001b[0m\n",
      "\u001b[0;32m~/anaconda3/lib/python3.6/site-packages/pyDatalog/UserList.py\u001b[0m in \u001b[0;36m__getitem__\u001b[0;34m(self, i)\u001b[0m\n\u001b[1;32m     30\u001b[0m     \u001b[0;32mdef\u001b[0m \u001b[0m__contains__\u001b[0m\u001b[0;34m(\u001b[0m\u001b[0mself\u001b[0m\u001b[0;34m,\u001b[0m \u001b[0mitem\u001b[0m\u001b[0;34m)\u001b[0m\u001b[0;34m:\u001b[0m \u001b[0;32mreturn\u001b[0m \u001b[0mitem\u001b[0m \u001b[0;32min\u001b[0m \u001b[0mself\u001b[0m\u001b[0;34m.\u001b[0m\u001b[0mdata\u001b[0m\u001b[0;34m\u001b[0m\u001b[0m\n\u001b[1;32m     31\u001b[0m     \u001b[0;32mdef\u001b[0m \u001b[0m__len__\u001b[0m\u001b[0;34m(\u001b[0m\u001b[0mself\u001b[0m\u001b[0;34m)\u001b[0m\u001b[0;34m:\u001b[0m \u001b[0;32mreturn\u001b[0m \u001b[0mlen\u001b[0m\u001b[0;34m(\u001b[0m\u001b[0mself\u001b[0m\u001b[0;34m.\u001b[0m\u001b[0mdata\u001b[0m\u001b[0;34m)\u001b[0m\u001b[0;34m\u001b[0m\u001b[0m\n\u001b[0;32m---> 32\u001b[0;31m     \u001b[0;32mdef\u001b[0m \u001b[0m__getitem__\u001b[0m\u001b[0;34m(\u001b[0m\u001b[0mself\u001b[0m\u001b[0;34m,\u001b[0m \u001b[0mi\u001b[0m\u001b[0;34m)\u001b[0m\u001b[0;34m:\u001b[0m \u001b[0;32mreturn\u001b[0m \u001b[0mself\u001b[0m\u001b[0;34m.\u001b[0m\u001b[0mdata\u001b[0m\u001b[0;34m[\u001b[0m\u001b[0mi\u001b[0m\u001b[0;34m]\u001b[0m\u001b[0;34m\u001b[0m\u001b[0m\n\u001b[0m\u001b[1;32m     33\u001b[0m     \u001b[0;32mdef\u001b[0m \u001b[0m__setitem__\u001b[0m\u001b[0;34m(\u001b[0m\u001b[0mself\u001b[0m\u001b[0;34m,\u001b[0m \u001b[0mi\u001b[0m\u001b[0;34m,\u001b[0m \u001b[0mitem\u001b[0m\u001b[0;34m)\u001b[0m\u001b[0;34m:\u001b[0m \u001b[0mself\u001b[0m\u001b[0;34m.\u001b[0m\u001b[0mdata\u001b[0m\u001b[0;34m[\u001b[0m\u001b[0mi\u001b[0m\u001b[0;34m]\u001b[0m \u001b[0;34m=\u001b[0m \u001b[0mitem\u001b[0m\u001b[0;34m\u001b[0m\u001b[0m\n\u001b[1;32m     34\u001b[0m     \u001b[0;32mdef\u001b[0m \u001b[0m__delitem__\u001b[0m\u001b[0;34m(\u001b[0m\u001b[0mself\u001b[0m\u001b[0;34m,\u001b[0m \u001b[0mi\u001b[0m\u001b[0;34m)\u001b[0m\u001b[0;34m:\u001b[0m \u001b[0;32mdel\u001b[0m \u001b[0mself\u001b[0m\u001b[0;34m.\u001b[0m\u001b[0mdata\u001b[0m\u001b[0;34m[\u001b[0m\u001b[0mi\u001b[0m\u001b[0;34m]\u001b[0m\u001b[0;34m\u001b[0m\u001b[0m\n",
      "\u001b[0;31mIndexError\u001b[0m: list index out of range"
     ]
    }
   ],
   "source": [
    "pyDatalog.create_terms(\"Vars\")\n",
    "\n",
    "temp_raf_type= raf_type[temp_patient['RAF_Type']]\n",
    "\n",
    "conditiion_categories= regvars(person, temp_raf_type, Vars)[0][0].split(',')\n",
    "\n",
    "print(\"conditiion_categories: {} for RAF_Type: {}\".format(conditiion_categories,temp_patient['RAF_Type']))"
   ]
  },
  {
   "cell_type": "code",
   "execution_count": null,
   "metadata": {},
   "outputs": [],
   "source": [
    "func1= lambda c : '_'.join([temp_patient['RAF_Type'],c]).lower()\n",
    "func2= lambda x: round(list(hcc_coeff.query(\"coeff=='{}'\".format(x))['value'])[0],3)\n",
    "\n",
    "[ {func1(c):func2(func1(c))} for c in conditiion_categories]"
   ]
  },
  {
   "cell_type": "code",
   "execution_count": null,
   "metadata": {},
   "outputs": [],
   "source": [
    "df_output.query(\"Patient_ID=='{}'\".format(temp_patient['Patient_ID']))"
   ]
  },
  {
   "cell_type": "code",
   "execution_count": null,
   "metadata": {},
   "outputs": [],
   "source": []
  },
  {
   "cell_type": "code",
   "execution_count": null,
   "metadata": {},
   "outputs": [],
   "source": []
  },
  {
   "cell_type": "code",
   "execution_count": null,
   "metadata": {},
   "outputs": [],
   "source": []
  },
  {
   "cell_type": "code",
   "execution_count": null,
   "metadata": {},
   "outputs": [],
   "source": []
  },
  {
   "cell_type": "code",
   "execution_count": null,
   "metadata": {},
   "outputs": [],
   "source": []
  }
 ],
 "metadata": {
  "kernelspec": {
   "display_name": "Python 3",
   "language": "python",
   "name": "python3"
  },
  "language_info": {
   "codemirror_mode": {
    "name": "ipython",
    "version": 3
   },
   "file_extension": ".py",
   "mimetype": "text/x-python",
   "name": "python",
   "nbconvert_exporter": "python",
   "pygments_lexer": "ipython3",
   "version": "3.6.5"
  }
 },
 "nbformat": 4,
 "nbformat_minor": 2
}
