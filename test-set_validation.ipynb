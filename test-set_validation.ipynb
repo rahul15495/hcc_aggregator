{
 "cells": [
  {
   "cell_type": "code",
   "execution_count": null,
   "metadata": {},
   "outputs": [],
   "source": [
    "import pandas as pd\n",
    "import random"
   ]
  },
  {
   "cell_type": "code",
   "execution_count": null,
   "metadata": {},
   "outputs": [],
   "source": [
    "#reading files\n",
    "diag_f= \"test_data/diag.csv\"\n",
    "person_f= \"test_data/person.csv\"\n",
    "output_f= \"test_data/output.csv\"\n",
    "\n",
    "\n",
    "df_diag= pd.read_csv(diag_f)\n",
    "df_person= pd.read_csv(person_f)\n",
    "df_output= pd.read_csv(output_f)\n"
   ]
  },
  {
   "cell_type": "code",
   "execution_count": null,
   "metadata": {},
   "outputs": [],
   "source": [
    "df_diag.head()\n"
   ]
  },
  {
   "cell_type": "code",
   "execution_count": null,
   "metadata": {},
   "outputs": [],
   "source": [
    "df_person.head()\n"
   ]
  },
  {
   "cell_type": "code",
   "execution_count": null,
   "metadata": {},
   "outputs": [],
   "source": [
    "df_output.head()"
   ]
  },
  {
   "cell_type": "code",
   "execution_count": null,
   "metadata": {},
   "outputs": [],
   "source": [
    "print('selecting random row from the person df')\n",
    "#print(df_person.index)\n",
    "id=random.randint(df_person.index[0],df_person.index[-1] )\n",
    "temp_patient= dict(df_person.loc[id])\n",
    "print(temp_patient)"
   ]
  },
  {
   "cell_type": "code",
   "execution_count": null,
   "metadata": {},
   "outputs": [],
   "source": [
    "print(\"getting diagnosis data for {}: {}\".format('Patient_ID', temp_patient['Patient_ID'] ))\n",
    "temp_diag= df_diag.query(\"Patient_ID=='{}'\".format(temp_patient['Patient_ID']))\n",
    "temp_diag"
   ]
  },
  {
   "cell_type": "code",
   "execution_count": null,
   "metadata": {},
   "outputs": [],
   "source": [
    "import api\n",
    "lob= 'MA'\n",
    "\n",
    "out = api.single_month_score_predcitor(hicno=temp_patient['Patient_ID'],\n",
    "                             sex=temp_patient['Gender'],\n",
    "                             dob=temp_patient['Patient_DOB'],\n",
    "                             month_of_eligibility= '09',\n",
    "                             year_of_eligibility= '2018',\n",
    "                             RAF_type= temp_patient['RAF_Type'],\n",
    "                             lob= lob,\n",
    "                             orec=0,\n",
    "                             medicaid=True,\n",
    "                             codes=list(temp_diag[' ICD10'].values))\n",
    "     "
   ]
  },
  {
   "cell_type": "code",
   "execution_count": null,
   "metadata": {},
   "outputs": [],
   "source": [
    "out"
   ]
  },
  {
   "cell_type": "code",
   "execution_count": null,
   "metadata": {},
   "outputs": [],
   "source": [
    "set(df_output.query(\"Patient_ID=='{}'\".format(temp_patient['Patient_ID']))['Observation'])"
   ]
  },
  {
   "cell_type": "code",
   "execution_count": null,
   "metadata": {},
   "outputs": [],
   "source": [
    "df_output.query(\"Patient_ID=='{}'\".format(temp_patient['Patient_ID']))"
   ]
  },
  {
   "cell_type": "code",
   "execution_count": null,
   "metadata": {},
   "outputs": [],
   "source": [
    "set(df_person['RAF_Type'].values)"
   ]
  },
  {
   "cell_type": "code",
   "execution_count": null,
   "metadata": {},
   "outputs": [],
   "source": []
  }
 ],
 "metadata": {
  "kernelspec": {
   "display_name": "Python 3",
   "language": "python",
   "name": "python3"
  },
  "language_info": {
   "codemirror_mode": {
    "name": "ipython",
    "version": 3
   },
   "file_extension": ".py",
   "mimetype": "text/x-python",
   "name": "python",
   "nbconvert_exporter": "python",
   "pygments_lexer": "ipython3",
   "version": "3.6.5"
  }
 },
 "nbformat": 4,
 "nbformat_minor": 2
}
